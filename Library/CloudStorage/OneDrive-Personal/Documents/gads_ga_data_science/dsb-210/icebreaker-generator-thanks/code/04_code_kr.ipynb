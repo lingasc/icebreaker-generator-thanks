{
 "cells": [
  {
   "cell_type": "markdown",
   "id": "f3e09d72-461d-4248-b0b9-30dfa74a5057",
   "metadata": {},
   "source": [
    "# Icebreaker Generator, Keanu Mode (English Only)"
   ]
  },
  {
   "cell_type": "markdown",
   "id": "a7ef8090-c81a-40fa-921c-a476aa671283",
   "metadata": {},
   "source": [
    "This notebook will be pretty short."
   ]
  },
  {
   "cell_type": "markdown",
   "id": "699f0601-41c8-4d6b-a39e-624e8e5ffb0f",
   "metadata": {},
   "source": [
    "![](https://media.tenor.com/_MxDxCX_dDgAAAAM/buttsmarnn.gif)"
   ]
  },
  {
   "cell_type": "markdown",
   "id": "9d49f280-8ce5-4af3-afa2-93a640379031",
   "metadata": {},
   "source": [
    "## Our Data  \n",
    "Our variables are sourced from a dataset of icebreaker components. We'll read in the dataset now as a DataFrame in pandas."
   ]
  },
  {
   "cell_type": "code",
   "execution_count": 1,
   "id": "27f2f252-a38e-44c1-abf2-d35ffb5b443d",
   "metadata": {},
   "outputs": [
    {
     "data": {
      "text/html": [
       "<div>\n",
       "<style scoped>\n",
       "    .dataframe tbody tr th:only-of-type {\n",
       "        vertical-align: middle;\n",
       "    }\n",
       "\n",
       "    .dataframe tbody tr th {\n",
       "        vertical-align: top;\n",
       "    }\n",
       "\n",
       "    .dataframe thead th {\n",
       "        text-align: right;\n",
       "    }\n",
       "</style>\n",
       "<table border=\"1\" class=\"dataframe\">\n",
       "  <thead>\n",
       "    <tr style=\"text-align: right;\">\n",
       "      <th></th>\n",
       "      <th>bad_options</th>\n",
       "      <th>mauvaises_préfs</th>\n",
       "      <th>bad_jp</th>\n",
       "      <th>good_options</th>\n",
       "      <th>bonnes_préfs</th>\n",
       "      <th>good_jp</th>\n",
       "      <th>open_ended</th>\n",
       "      <th>ouvertes</th>\n",
       "      <th>open_jp</th>\n",
       "      <th>keanu_trivia</th>\n",
       "    </tr>\n",
       "  </thead>\n",
       "  <tbody>\n",
       "    <tr>\n",
       "      <th>0</th>\n",
       "      <td>jump into a live volcano</td>\n",
       "      <td>sauter dans un volcan actif</td>\n",
       "      <td>生きた火山に飛び込む</td>\n",
       "      <td>be able to swim like a fish</td>\n",
       "      <td>être capable de nager comme un poisson</td>\n",
       "      <td>魚のように泳げる</td>\n",
       "      <td>What's your favorite breakfast food?</td>\n",
       "      <td>Quel est votre plat de petit-déjeuner préféré ?</td>\n",
       "      <td>あなたの好きな朝食は何ですか？</td>\n",
       "      <td>Despite—or perhaps because of—his multicultura...</td>\n",
       "    </tr>\n",
       "    <tr>\n",
       "      <th>1</th>\n",
       "      <td>jump into a whale's mouth</td>\n",
       "      <td>sauter dans la gueule d'une baleine</td>\n",
       "      <td>クジラの口に飛び込む</td>\n",
       "      <td>be able to fly like a bird</td>\n",
       "      <td>être capable de voler comme un oiseau</td>\n",
       "      <td>鳥のように飛べる</td>\n",
       "      <td>What's your favorite lunch food?</td>\n",
       "      <td>Quel est votre plat de déjeuner préféré ?</td>\n",
       "      <td>あなたの好きな昼食は何ですか？</td>\n",
       "      <td>Hockey kept Keanu busy as a kid.</td>\n",
       "    </tr>\n",
       "    <tr>\n",
       "      <th>2</th>\n",
       "      <td>get stuck in an elevator with your ex</td>\n",
       "      <td>être coincé dans un ascenseur avec votre ex</td>\n",
       "      <td>元カレ・元カノとエレベーターに閉じ込められる</td>\n",
       "      <td>become a master of martial arts</td>\n",
       "      <td>devenir un maître des arts martiaux</td>\n",
       "      <td>武道の達人になる</td>\n",
       "      <td>What's your favorite dinner food?</td>\n",
       "      <td>Quel est votre plat de dîner préféré ?</td>\n",
       "      <td>あなたの好きな夕食は何ですか？</td>\n",
       "      <td>When Keanu was a kid, Alice Cooper used to han...</td>\n",
       "    </tr>\n",
       "    <tr>\n",
       "      <th>3</th>\n",
       "      <td>get bird poo on your head</td>\n",
       "      <td>recevoir des crottes d'oiseau sur la tête</td>\n",
       "      <td>頭に鳥の糞が落ちる</td>\n",
       "      <td>stop aging</td>\n",
       "      <td>arrêter de vieillir</td>\n",
       "      <td>老化を止める</td>\n",
       "      <td>What's your favorite snack?</td>\n",
       "      <td>Quel est votre en-cas préféré ?</td>\n",
       "      <td>あなたの好きなおやつは何ですか？</td>\n",
       "      <td>One of Reeves’s earliest roles was in a Coca-C...</td>\n",
       "    </tr>\n",
       "    <tr>\n",
       "      <th>4</th>\n",
       "      <td>forget your most cherished memories</td>\n",
       "      <td>oublier vos souvenirs les plus chers</td>\n",
       "      <td>最も大切な思い出を忘れる</td>\n",
       "      <td>have super strength</td>\n",
       "      <td>avoir une force surhumaine</td>\n",
       "      <td>超人的な力を持つ</td>\n",
       "      <td>What's your favorite cereal?</td>\n",
       "      <td>Quel est votre céréale préférée ?</td>\n",
       "      <td>あなたの好きなシリアルは何ですか？</td>\n",
       "      <td>Keanu almost renamed himself “Chuck Spadina.”</td>\n",
       "    </tr>\n",
       "  </tbody>\n",
       "</table>\n",
       "</div>"
      ],
      "text/plain": [
       "                             bad_options  \\\n",
       "0               jump into a live volcano   \n",
       "1              jump into a whale's mouth   \n",
       "2  get stuck in an elevator with your ex   \n",
       "3              get bird poo on your head   \n",
       "4    forget your most cherished memories   \n",
       "\n",
       "                               mauvaises_préfs                  bad_jp  \\\n",
       "0                  sauter dans un volcan actif              生きた火山に飛び込む   \n",
       "1          sauter dans la gueule d'une baleine              クジラの口に飛び込む   \n",
       "2  être coincé dans un ascenseur avec votre ex  元カレ・元カノとエレベーターに閉じ込められる   \n",
       "3    recevoir des crottes d'oiseau sur la tête               頭に鳥の糞が落ちる   \n",
       "4         oublier vos souvenirs les plus chers            最も大切な思い出を忘れる   \n",
       "\n",
       "                      good_options                            bonnes_préfs  \\\n",
       "0      be able to swim like a fish  être capable de nager comme un poisson   \n",
       "1       be able to fly like a bird   être capable de voler comme un oiseau   \n",
       "2  become a master of martial arts     devenir un maître des arts martiaux   \n",
       "3                       stop aging                     arrêter de vieillir   \n",
       "4              have super strength              avoir une force surhumaine   \n",
       "\n",
       "    good_jp                            open_ended  \\\n",
       "0  魚のように泳げる  What's your favorite breakfast food?   \n",
       "1  鳥のように飛べる      What's your favorite lunch food?   \n",
       "2  武道の達人になる     What's your favorite dinner food?   \n",
       "3    老化を止める           What's your favorite snack?   \n",
       "4  超人的な力を持つ          What's your favorite cereal?   \n",
       "\n",
       "                                          ouvertes            open_jp  \\\n",
       "0  Quel est votre plat de petit-déjeuner préféré ?    あなたの好きな朝食は何ですか？   \n",
       "1        Quel est votre plat de déjeuner préféré ?    あなたの好きな昼食は何ですか？   \n",
       "2           Quel est votre plat de dîner préféré ?    あなたの好きな夕食は何ですか？   \n",
       "3                  Quel est votre en-cas préféré ?   あなたの好きなおやつは何ですか？   \n",
       "4                Quel est votre céréale préférée ?  あなたの好きなシリアルは何ですか？   \n",
       "\n",
       "                                        keanu_trivia  \n",
       "0  Despite—or perhaps because of—his multicultura...  \n",
       "1                   Hockey kept Keanu busy as a kid.  \n",
       "2  When Keanu was a kid, Alice Cooper used to han...  \n",
       "3  One of Reeves’s earliest roles was in a Coca-C...  \n",
       "4      Keanu almost renamed himself “Chuck Spadina.”  "
      ]
     },
     "execution_count": 1,
     "metadata": {},
     "output_type": "execute_result"
    }
   ],
   "source": [
    "# Import pandas\n",
    "import pandas as pd\n",
    "\n",
    "# Import random \n",
    "# Define random seed as 42 so others can recreate our random choices\n",
    "import random\n",
    "random.seed(42)\n",
    "\n",
    "# Read our dataset into pandas as a DataFrame\n",
    "df = pd.read_csv('./data/breakfast_hour.csv')\n",
    "df.head()"
   ]
  },
  {
   "cell_type": "markdown",
   "id": "d66d287b-1683-45ab-9ce0-ec1c52053edc",
   "metadata": {},
   "source": [
    "## Step 1: Tell python to print a cell from the DataFrame's 'keanu_trivia' feature at random.  "
   ]
  },
  {
   "cell_type": "markdown",
   "id": "e00138a7-248e-476d-8711-9f74cc6dfddd",
   "metadata": {},
   "source": [
    "## Step 2: Profit.  "
   ]
  },
  {
   "cell_type": "code",
   "execution_count": 2,
   "id": "c0070215-e85d-4fb3-92b4-2de8348a8b26",
   "metadata": {},
   "outputs": [
    {
     "name": "stdout",
     "output_type": "stream",
     "text": [
      "Reeves' first name “Keanu” means “cool breeze over the mountains” and was derived from the name of his great-great-uncle Keaweaheulu.\n"
     ]
    }
   ],
   "source": [
    "# Print a sentence from column 'keanu_trivia' at random\n",
    "\n",
    "print(f\"{random.choice(df['keanu_trivia'])}\")"
   ]
  },
  {
   "cell_type": "markdown",
   "id": "bf4b5496-0c4a-45e3-ad00-b12904551ced",
   "metadata": {},
   "source": [
    "![](https://gifdb.com/images/thumbnail/thumbs-up-keanu-reeves-75hjv0woagrni9mh.gif)"
   ]
  }
 ],
 "metadata": {
  "kernelspec": {
   "display_name": "Python 3 (ipykernel)",
   "language": "python",
   "name": "python3"
  },
  "language_info": {
   "codemirror_mode": {
    "name": "ipython",
    "version": 3
   },
   "file_extension": ".py",
   "mimetype": "text/x-python",
   "name": "python",
   "nbconvert_exporter": "python",
   "pygments_lexer": "ipython3",
   "version": "3.12.2"
  }
 },
 "nbformat": 4,
 "nbformat_minor": 5
}
