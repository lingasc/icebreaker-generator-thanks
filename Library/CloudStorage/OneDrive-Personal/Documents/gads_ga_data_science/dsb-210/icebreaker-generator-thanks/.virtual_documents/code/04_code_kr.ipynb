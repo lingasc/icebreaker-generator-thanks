











# Import pandas
import pandas as pd

# Import random 
# Define random seed as 42 so others can recreate our random choices
import random
random.seed(42)

# Read our dataset into pandas as a DataFrame
df = pd.read_csv('./data/breakfast_hour.csv')
df.head()








# Print a sentence from column 'keanu_trivia' at random

print(f"{random.choice(df['keanu_trivia'])}")



