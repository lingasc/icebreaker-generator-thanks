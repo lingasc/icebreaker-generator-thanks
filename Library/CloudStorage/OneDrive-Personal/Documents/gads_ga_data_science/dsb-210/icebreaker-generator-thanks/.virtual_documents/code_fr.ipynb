








# Import pandas
import pandas as pd

# Import random 
# Define random seed as 42 so others can recreate our random choices
import random
# random.seed(42)

# Read our dataset into pandas as a DataFrame
df = pd.read_csv('data/breakfast_hour.csv')
df.head()





# Create variable "rather_bad" that randomly generates a negative "Would you rather" question
# Choose two negative options at random from the 'rather_bad' feature of our dataset
rather_bad = (f'Would you rather {random.choice(df['rather_bad'])} or {random.choice(df['rather_bad'])}?')
print(rather_bad)





# Create variable "rather_good" that randomly generates a positive "Would you rather" question
# Choose two positive options at random from the 'rather_good' feature of our dataset
rather_good = (f"Would you rather {random.choice(df['rather_good'])} or {random.choice(df['rather_good'])}?")
print(rather_good)





# Create "open_ended" variable to pick and print an open-ended question at random from our DataFrame
open_ended = (f"{random.choice(df['open_ended'])}")
print(open_ended)





questions = [rather_bad, rather_good, open_ended]

icebreaker = print(random.choice(questions))



