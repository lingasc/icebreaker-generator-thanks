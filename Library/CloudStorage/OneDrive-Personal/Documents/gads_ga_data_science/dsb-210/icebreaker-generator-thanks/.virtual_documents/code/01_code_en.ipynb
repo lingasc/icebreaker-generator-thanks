








# Import pandas
import pandas as pd

# Import random 
# Define random seed as 42 so others can recreate our random choices
import random
random.seed(42)

# Read our dataset into pandas as a DataFrame
df = pd.read_csv('./data/breakfast_hour.csv')
df.head()





# Create array that stores our three question types
# Save array to variable 'questions_en'
questions_en = ['bad', 'good', 'open']





# Create 'icebreaker' to pick a question type from 'questions_en' at random
# If it picks 'bad', print a negative-option question
# If 'good', print positive-option question
# Else print open-ended question

icebreaker = (random.choice(questions_en))
if icebreaker == 'bad':
    # Select two different bad options by sampling without replacement
    options = random.sample(df['bad_options'].tolist(), 2)
    print(f'Would you rather {options[0]}, or {options[1]}?')
elif icebreaker == 'good':
    # Select two different bad options by sampling without replacement
    options = random.sample(df['good_options'].tolist(), 2)
    print(f'Would you rather {options[0]}, or {options[1]}?')
else: print(f"{random.choice(df['open_ended'])}")
