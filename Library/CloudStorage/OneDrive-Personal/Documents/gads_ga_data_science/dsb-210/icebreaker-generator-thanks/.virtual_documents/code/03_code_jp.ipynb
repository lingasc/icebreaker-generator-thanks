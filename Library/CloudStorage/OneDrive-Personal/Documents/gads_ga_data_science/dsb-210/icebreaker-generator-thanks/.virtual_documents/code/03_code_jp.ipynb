











# pandasをインポートする (Import pandas)
import pandas as pd

# randomをインポートする (Import random)
# ランダムシードを42に設定して、他の人が私たちのランダムな選択を再現できるようにします。 
# (Define random seed as 42 so others can recreate our random choices)
import random
random.seed(42)

# データセットをpandasに読み込み、DataFrameとして扱います。
# (Read our dataset into pandas as a DataFrame)
df = pd.read_csv('../data/breakfast_hour.csv')
df.head()





# 私たちの3つの質問タイプを格納する配列を作成する
# 配列を変数 'questions_jp' に保存する

# (Create array that stores our three question types)
# (Save array to variable 'questions_jp')
questions_jp = ['warui', 'yoi', 'ōpun']





# (ランダムに 'questions_jp' から質問タイプを選ぶために 'icebreaker' を作成する)
# (もし 'warui' を選んだら、ネガティブオプションの質問を表示する)
# (もし 'yoi' を選んだら、ポジティブオプションの質問を表示する)
# (それ以外の場合は、開放的な質問を表示する)

# (Create 'icebreaker' to pick a question type from 'questions_jp' at random)
# (If it picks 'warui', print a negative-option question)
# (If 'yoi', print positive-option question)
# (Else print an open-ended question)

icebreaker = (random.choice(questions_jp))
if icebreaker == 'warui':
    # Select two different bad options by sampling without replacement
    options = random.sample(df['bad_jp'].tolist(), 2)
    print(f'あなたは {options[0]} と {options[1]} のどちらを好みますか？')
elif icebreaker == 'yoi':
    # Select two different bad options by sampling without replacement
    options = random.sample(df['good_jp'].tolist(), 2)
    print(f'あなたは {options[0]} と {options[1]} のどちらを好みますか？')
else: print(f"{random.choice(df['open_jp'])}")
