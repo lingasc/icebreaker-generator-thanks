








# Import pandas
import pandas as pd

# Import random 
# Define random seed as 42 so others can recreate our random choices
import random
random.seed(42)

# Read our dataset into pandas as a DataFrame
df = pd.read_csv('data/breakfast_hour.csv')
df.head()





# Create array that stores our three question types
# Save array to variable 'questions_en'
questions_en = ['bad', 'good', 'open']





# Create 'icebreaker' to pick a question type from 'questions_en' at random
# If it picks 'bad', print a negative-option question
# If 'good', print positive-option question
# Else print open-ended question
icebreaker = (random.choice(questions_en))
if icebreaker == 'bad':
    print(f'Would you rather {random.choice(df['bad_options'])} or {random.choice(df['bad_options'])}?');
elif icebreaker == 'good':
    print((f'Would you rather {random.choice(df['good_options'])} or {random.choice(df['good_options'])}?'));
else: print(f"{random.choice(df['open_ended'])}")
