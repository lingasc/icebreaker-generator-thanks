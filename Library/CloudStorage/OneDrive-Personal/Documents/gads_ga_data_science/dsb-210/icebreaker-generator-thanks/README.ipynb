{
 "cells": [
  {
   "cell_type": "markdown",
   "id": "e11c3cbd-1d69-40a0-ae67-b73b87b03532",
   "metadata": {},
   "source": [
    "![](https://y.yarn.co/caa9c31d-b640-40d0-8a9a-0cf586412dd8_text.gif)"
   ]
  },
  {
   "cell_type": "markdown",
   "id": "f98d04d5-f1e6-488e-8d48-649d797e5630",
   "metadata": {},
   "source": [
    "# Icebreaker Generator  \n",
    "### Surprise!  \n",
    "  \n",
    "To thank you for the past three months, I've taken what I've learned from DSB-210 and written an icebreaker generator capable of generating 5,724 unique, safe-for-work icebreakers, to streamline the task of finding and copying an icebreaker to be pasted into a chat.  \n",
    "\n",
    "### The Purpose of This Generator:  \n",
    "This simple, lightweight MVP was built to provide increased convenience for putting icebreakers into online chats. Plus a little added fun:  \n",
    "\n",
    "- French translations for Matt\n",
    "- Japanese translations for Eric\n",
    "- Random Keanu Reeves trivia in English, a nod to Argo's Keanu-themed Office Hours\n",
    "  \n",
    "### Best for:  \n",
    "Remote team building.  \n",
    "\n",
    "---  \n",
    "\n",
    "![](https://cdn.notonthehighstreet.com/system/product_images/images/001/332/036/original_set-of-12-colourful-thank-you-note-cards.jpg)  \n",
    "  \n",
    "#### Eric  \n",
    "This was why I'd been asking all those questions about how you make icebreakers!  \n",
    "  \n",
    "#### Matt  \n",
    "Now that you're moving on without your icebreaker person, maybe this can come in handy.  \n",
    "  \n",
    "#### Argo  \n",
    "You might not need icebreakers, but a piece of Keanu trivia a day whiles the long Office Hours away!  \n",
    "\n",
    "---"
   ]
  },
  {
   "cell_type": "markdown",
   "id": "c5e7deab-c2f7-46a5-84f8-6dc7f80cea94",
   "metadata": {},
   "source": [
    "## To Use:  \n",
    "1. Keep clicking on any button to cycle through until you find an icebreaker you like.\n",
    "2. Click on the clipboard button to copy it.\n",
    "3. Paste the icebreaker into your chat. Done!\n",
    "\n",
    "---"
   ]
  },
  {
   "cell_type": "markdown",
   "id": "b07e4c8d-3c68-4067-bd1f-47cb0c12faae",
   "metadata": {},
   "source": [
    "# What Problem Does This Solve?  \n",
    "No real problem, as far as I can tell. It's just something fun and quick that ties into our experience the past three months. _There is no obligation whatsoever to use this generator!_    \n",
    "  \n",
    "However, if we're talking about solving a problem of convenience, then this program can provide icebreakers faster and cheaper than what's widely available out there. Here's how it compares to two popular, free alternatives when you go through the process of finding one icebreaker, copying, and pasting it into a chat.  \n",
    "\n",
    "|                            |This Program|GenAI    |Search Engine|\n",
    "|----------------------------|------------|---------|-------------|\n",
    "|Requires the least steps    |✓           |         |             |\n",
    "|Uses the least resources    |✓           |         |             |\n",
    "|Easy to use                 |✓           |✓        |✓            |\n",
    "|Free                        |✓           |✓        |✓            |\n",
    "|Fast                        |✓           |✓        |✓            |"
   ]
  },
  {
   "cell_type": "markdown",
   "id": "ddd1e02c-5100-4bfb-883b-0fc6c0ecafd4",
   "metadata": {},
   "source": [
    "## How It Works:  \n",
    "  \n",
    "The code generates icebreakers at random by putting together a question from phrases sourced from the [breakfast hour dataset](data/breakfast_hour.csv). (By random, I mean in the way computers can simulate randomness.)  \n",
    "\n",
    "1. An array contains the types of questions that the generator can create.\n",
    "2. The code picks a question type from the array at random.\n",
    "3. The code then constructs the question, following the format of the chosen question type.\n",
    "4. The complete question is printed.\n",
    "   \n",
    "The code can also print French and Japanese translations of the generated question.  \n",
    "\n",
    "It can also generate a random piece of Keanu Reeves trivia instead of a question.\n",
    "\n",
    "---"
   ]
  },
  {
   "cell_type": "markdown",
   "id": "05c5327e-a85d-4d04-9aa8-126bf95fda9a",
   "metadata": {},
   "source": [
    "## The Concept  \n",
    "The program is based on my experience of our own breakfast hour icebreakers, which seem to fit into two categories:  \n",
    "  \n",
    "- Questions from which people must choose one out of two provided options.  \n",
    "  Example: \"Would you rather be able to talk to animals, or know how to play every musical instrument?\"\n",
    "- Open-ended questions that encourage people to discuss their opinions on a subject.  \n",
    "  Example: \"What's your favorite pizza topping?\"\n",
    "\n",
    "For the former question type to be effective, the two options provided must be _both negative_ or _both positive,_ or else the question is not worth contemplating. After all, the following question is pretty easy to answer, isn't it?  \n",
    "\n",
    "> \"Would you rather be stung by a murder hornet, or win a million dollars tax free?\"  \n",
    "\n",
    "Here is a picture of a murder hornet to illustrate how horrible they are, compared to a regular western honeybee.  \n",
    "\n",
    "  \n",
    "![](https://www.bellinghamherald.com/latest-news/ab3it/picture242408291/alternates/FREE_1140/Asian%20hornet.jpg)\n",
    "\n",
    "  \n",
    "Nor should options be neutral. Your audience must be moved emotionally or rationally enough to want to answer the question.  \n",
    "  \n",
    "To this end, the icebreaker program will generate three types of questions:  \n",
    "  \n",
    "- Negative \"would you rather\" questions  \n",
    "  Example: \"Would you rather be stranded on a desert island or stuck in an elevator?\"  \n",
    "- Positive \"would you rather\" questions  \n",
    "  Example: \"Would you rather win the Nobel Prize or the lottery?\"  \n",
    "- Open-ended questions  \n",
    "  \"Which actor would play you in a movie about your life?\"  \n",
    "  \n",
    "The type of question will be chosen at random, as will the options if it is a \"Would you rather\" type of question. All components of the questions are stored in [this breakfast hour dataset](data/breakfast_hour.csv).  \n",
    "\n",
    "---"
   ]
  },
  {
   "cell_type": "markdown",
   "id": "e7517ff6-18c5-475d-8c7f-c4cbff72c2be",
   "metadata": {},
   "source": [
    "## Limitations  \n",
    "\n",
    "While this icebreaker generator might be more convenient than generative AI or googling icebreakers, the results you get might be on par. That is, not every icebreaker this generates will be gold.  \n",
    "\n",
    "The French translations might be better than the Japanese. While I was able to write and proofread in French, using even common syntax and phrasing in my code comments that French software engineers commonly use, I used an online translator to get the Japanese translations and cannot guarantee the same level of acuity there.  \n",
    "\n",
    "The Keanu facts are true to the best of my knowledge, but I got them from google, so they're about as true as true can mean for the internet.  \n",
    "\n",
    "Ultimately, this is an MVP. There's much room for improvement, which I might do if I have time."
   ]
  },
  {
   "cell_type": "markdown",
   "id": "faa5e961-2048-420e-94fe-3ded94007c5d",
   "metadata": {},
   "source": [
    "# Our Audience  \n",
    "**End Users:**  \n",
    "Matt, Eric, and/or Argo, for whom I made this as a teacher appreciation gift.  \n",
    "This program could also be useful for:  \n",
    "\n",
    "- People managers\n",
    "- Instructors in American higher education\n",
    "  - Who are fluent in American English (I built this in American English with only two other language options)\n",
    "  - Who are studying French in Duolingo (like Matt)\n",
    "  - Who are re-learning Japanese in Duolingo (for Eric)\n",
    "- Anyone in a position where remote team building is a routine task\n",
    "  - Where resources are limited (e.g. security risks or no budget for paid agentic AI)\n",
    "  \n",
    "**Our End Users' Audience Would Be:**  \n",
    "\n",
    "- Adults (age 18+)\n",
    "- Working or studying in tech\n",
    "- Who are proficient in American English, textbook French, or textbook Japanese\n",
    "- Who communicate textually\n",
    "\n",
    "---"
   ]
  },
  {
   "cell_type": "markdown",
   "id": "cfd20a30-39ae-4220-be18-68cad8130354",
   "metadata": {},
   "source": [
    "# Materials  \n",
    "\n",
    "## [Code](code/)  \n",
    "\n",
    "|Notebooks                                |Description                         |\n",
    "|-----------------------------------------|------------------------------------|\n",
    "|[01 English](code/01_code_en.ipynb)      |The code for English icebreakers.   |\n",
    "|[02 French](code/02_code_fr.ipynb)       |The icebreaker generator in French. |\n",
    "|[03 Japanese](code/03_code_jp.ipynb)     |The Japanese icebreaker code.       |\n",
    "|[04 Keanu Trivia](code/04_code_kr.ipynb) |The code for Keanu trivia.          |  \n",
    "\n",
    "\n",
    "|Python Scripts                        |Description                         |\n",
    "|--------------------------------------|------------------------------------|\n",
    "|[English](code/icebreaker_en.py)      |This runs the English icebreaker generator.                   |\n",
    "|[French](code/icebreaker_fr.py)       |This runs the French icebreaker generator.                    |\n",
    "|[Japanese](code/icebreaker_jp.py)     |This runs the Japanese icebreaker generator.                  |\n",
    "|[Keanu Mode](code/keanu_mode.py)      |This runs Keanu Mode.                                         | \n",
    "|[Requirements](code/requirements.py)  |This imports our libraries and loads our dataset into pandas. | "
   ]
  },
  {
   "cell_type": "markdown",
   "id": "71b2624f-46ad-4f9c-ad6e-065ed9c93d2a",
   "metadata": {},
   "source": [
    "## [Data](/data)\n",
    "[Icebreaker Dataset](data/breakfast_hour.csv)  \n",
    "\n",
    "### Data Dictionary\n",
    "|Column                |type    |Description                                  |\n",
    "|----------------------|--------|---------------------------------------------|\n",
    "|bad_options           |str     |Components of undesirable options.           |\n",
    "|mauvaises_préfs       |str     |The English undesirable options in French.   |\n",
    "|bad_jp                |str     |The English undesirable options in Japanese. |\n",
    "|good_options          |str     |Components of favorable options.             |\n",
    "|bonnes_préfs          |str     |The English favorable options in French.     |\n",
    "|good_jp               |str     |The English favorable options in Japanese.   |\n",
    "|open_ended            |str     |Complete open-ended questions.               |\n",
    "|ouvertes              |str     |The English open-ended questions in French.  |\n",
    "|open_jp               |str     |The English open-ended questions in Japanese.|\n",
    "|keanu_trivia          |str     |Complete sentences of Keanu trivia. English. | "
   ]
  }
 ],
 "metadata": {
  "kernelspec": {
   "display_name": "Python 3 (ipykernel)",
   "language": "python",
   "name": "python3"
  },
  "language_info": {
   "codemirror_mode": {
    "name": "ipython",
    "version": 3
   },
   "file_extension": ".py",
   "mimetype": "text/x-python",
   "name": "python",
   "nbconvert_exporter": "python",
   "pygments_lexer": "ipython3",
   "version": "3.12.2"
  }
 },
 "nbformat": 4,
 "nbformat_minor": 5
}
